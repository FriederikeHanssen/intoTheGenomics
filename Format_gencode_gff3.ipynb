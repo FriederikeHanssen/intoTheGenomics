{
 "cells": [
  {
   "cell_type": "code",
   "execution_count": 1,
   "metadata": {},
   "outputs": [],
   "source": [
    "import pandas as pd\n",
    "import numpy as np\n",
    "import pysam"
   ]
  },
  {
   "cell_type": "markdown",
   "metadata": {},
   "source": [
    "#### 1. Read gff3 file into a pandas dataframe and examine the GENCODE file format"
   ]
  },
  {
   "cell_type": "code",
   "execution_count": 2,
   "metadata": {},
   "outputs": [
    {
     "data": {
      "text/html": [
       "<div>\n",
       "<style scoped>\n",
       "    .dataframe tbody tr th:only-of-type {\n",
       "        vertical-align: middle;\n",
       "    }\n",
       "\n",
       "    .dataframe tbody tr th {\n",
       "        vertical-align: top;\n",
       "    }\n",
       "\n",
       "    .dataframe thead th {\n",
       "        text-align: right;\n",
       "    }\n",
       "</style>\n",
       "<table border=\"1\" class=\"dataframe\">\n",
       "  <thead>\n",
       "    <tr style=\"text-align: right;\">\n",
       "      <th></th>\n",
       "      <th>seqname</th>\n",
       "      <th>source</th>\n",
       "      <th>feature</th>\n",
       "      <th>start</th>\n",
       "      <th>end</th>\n",
       "      <th>score</th>\n",
       "      <th>strand</th>\n",
       "      <th>frame</th>\n",
       "      <th>attribute</th>\n",
       "    </tr>\n",
       "  </thead>\n",
       "  <tbody>\n",
       "    <tr>\n",
       "      <th>0</th>\n",
       "      <td>chr1</td>\n",
       "      <td>HAVANA</td>\n",
       "      <td>gene</td>\n",
       "      <td>11869</td>\n",
       "      <td>14412</td>\n",
       "      <td>.</td>\n",
       "      <td>+</td>\n",
       "      <td>.</td>\n",
       "      <td>ID=ENSG00000223972.4;gene_id=ENSG00000223972.4...</td>\n",
       "    </tr>\n",
       "    <tr>\n",
       "      <th>1</th>\n",
       "      <td>chr1</td>\n",
       "      <td>HAVANA</td>\n",
       "      <td>transcript</td>\n",
       "      <td>11869</td>\n",
       "      <td>14409</td>\n",
       "      <td>.</td>\n",
       "      <td>+</td>\n",
       "      <td>.</td>\n",
       "      <td>ID=ENST00000456328.2;Parent=ENSG00000223972.4;...</td>\n",
       "    </tr>\n",
       "    <tr>\n",
       "      <th>2</th>\n",
       "      <td>chr1</td>\n",
       "      <td>HAVANA</td>\n",
       "      <td>exon</td>\n",
       "      <td>11869</td>\n",
       "      <td>12227</td>\n",
       "      <td>.</td>\n",
       "      <td>+</td>\n",
       "      <td>.</td>\n",
       "      <td>ID=exon:ENST00000456328.2:1;Parent=ENST0000045...</td>\n",
       "    </tr>\n",
       "    <tr>\n",
       "      <th>3</th>\n",
       "      <td>chr1</td>\n",
       "      <td>HAVANA</td>\n",
       "      <td>exon</td>\n",
       "      <td>12613</td>\n",
       "      <td>12721</td>\n",
       "      <td>.</td>\n",
       "      <td>+</td>\n",
       "      <td>.</td>\n",
       "      <td>ID=exon:ENST00000456328.2:2;Parent=ENST0000045...</td>\n",
       "    </tr>\n",
       "    <tr>\n",
       "      <th>4</th>\n",
       "      <td>chr1</td>\n",
       "      <td>HAVANA</td>\n",
       "      <td>exon</td>\n",
       "      <td>13221</td>\n",
       "      <td>14409</td>\n",
       "      <td>.</td>\n",
       "      <td>+</td>\n",
       "      <td>.</td>\n",
       "      <td>ID=exon:ENST00000456328.2:3;Parent=ENST0000045...</td>\n",
       "    </tr>\n",
       "  </tbody>\n",
       "</table>\n",
       "</div>"
      ],
      "text/plain": [
       "  seqname  source     feature  start    end score strand frame  \\\n",
       "0    chr1  HAVANA        gene  11869  14412     .      +     .   \n",
       "1    chr1  HAVANA  transcript  11869  14409     .      +     .   \n",
       "2    chr1  HAVANA        exon  11869  12227     .      +     .   \n",
       "3    chr1  HAVANA        exon  12613  12721     .      +     .   \n",
       "4    chr1  HAVANA        exon  13221  14409     .      +     .   \n",
       "\n",
       "                                           attribute  \n",
       "0  ID=ENSG00000223972.4;gene_id=ENSG00000223972.4...  \n",
       "1  ID=ENST00000456328.2;Parent=ENSG00000223972.4;...  \n",
       "2  ID=exon:ENST00000456328.2:1;Parent=ENST0000045...  \n",
       "3  ID=exon:ENST00000456328.2:2;Parent=ENST0000045...  \n",
       "4  ID=exon:ENST00000456328.2:3;Parent=ENST0000045...  "
      ]
     },
     "execution_count": 2,
     "metadata": {},
     "output_type": "execute_result"
    }
   ],
   "source": [
    "gencode = pd.read_table(\"/Users/pubudu/Documents/RefData/Gencode/gencode.v19.annotation.gff3\", comment=\"#\",\n",
    "                        sep = \"\\t\", names = ['seqname', 'source', 'feature', 'start' , 'end', 'score', 'strand', 'frame', 'attribute'])\n",
    "gencode.head()"
   ]
  },
  {
   "cell_type": "code",
   "execution_count": 3,
   "metadata": {},
   "outputs": [
    {
     "name": "stdout",
     "output_type": "stream",
     "text": [
      "<class 'pandas.core.frame.DataFrame'>\n",
      "RangeIndex: 2615566 entries, 0 to 2615565\n",
      "Data columns (total 9 columns):\n",
      "seqname      object\n",
      "source       object\n",
      "feature      object\n",
      "start        int64\n",
      "end          int64\n",
      "score        object\n",
      "strand       object\n",
      "frame        object\n",
      "attribute    object\n",
      "dtypes: int64(2), object(7)\n",
      "memory usage: 179.6+ MB\n"
     ]
    }
   ],
   "source": [
    "gencode.info()"
   ]
  },
  {
   "cell_type": "markdown",
   "metadata": {},
   "source": [
    "#### 2. Extract Genes in the gff3 file \"feature = gene\""
   ]
  },
  {
   "cell_type": "code",
   "execution_count": 4,
   "metadata": {},
   "outputs": [
    {
     "name": "stdout",
     "output_type": "stream",
     "text": [
      "<class 'pandas.core.frame.DataFrame'>\n",
      "RangeIndex: 57820 entries, 0 to 57819\n",
      "Data columns (total 4 columns):\n",
      "seqname      57820 non-null object\n",
      "start        57820 non-null int64\n",
      "end          57820 non-null int64\n",
      "attribute    57820 non-null object\n",
      "dtypes: int64(2), object(2)\n",
      "memory usage: 1.8+ MB\n"
     ]
    }
   ],
   "source": [
    "gencode_genes = gencode[(gencode.feature == \"gene\")][['seqname', 'start', 'end', 'attribute']].copy().reset_index().drop('index', axis=1) # Extract genes\n",
    "gencode_genes.info()"
   ]
  },
  {
   "cell_type": "code",
   "execution_count": 5,
   "metadata": {},
   "outputs": [
    {
     "data": {
      "text/html": [
       "<div>\n",
       "<style scoped>\n",
       "    .dataframe tbody tr th:only-of-type {\n",
       "        vertical-align: middle;\n",
       "    }\n",
       "\n",
       "    .dataframe tbody tr th {\n",
       "        vertical-align: top;\n",
       "    }\n",
       "\n",
       "    .dataframe thead th {\n",
       "        text-align: right;\n",
       "    }\n",
       "</style>\n",
       "<table border=\"1\" class=\"dataframe\">\n",
       "  <thead>\n",
       "    <tr style=\"text-align: right;\">\n",
       "      <th></th>\n",
       "      <th>seqname</th>\n",
       "      <th>start</th>\n",
       "      <th>end</th>\n",
       "      <th>attribute</th>\n",
       "    </tr>\n",
       "  </thead>\n",
       "  <tbody>\n",
       "    <tr>\n",
       "      <th>0</th>\n",
       "      <td>chr1</td>\n",
       "      <td>11869</td>\n",
       "      <td>14412</td>\n",
       "      <td>ID=ENSG00000223972.4;gene_id=ENSG00000223972.4...</td>\n",
       "    </tr>\n",
       "    <tr>\n",
       "      <th>1</th>\n",
       "      <td>chr1</td>\n",
       "      <td>14363</td>\n",
       "      <td>29806</td>\n",
       "      <td>ID=ENSG00000227232.4;gene_id=ENSG00000227232.4...</td>\n",
       "    </tr>\n",
       "    <tr>\n",
       "      <th>2</th>\n",
       "      <td>chr1</td>\n",
       "      <td>29554</td>\n",
       "      <td>31109</td>\n",
       "      <td>ID=ENSG00000243485.2;gene_id=ENSG00000243485.2...</td>\n",
       "    </tr>\n",
       "    <tr>\n",
       "      <th>3</th>\n",
       "      <td>chr1</td>\n",
       "      <td>34554</td>\n",
       "      <td>36081</td>\n",
       "      <td>ID=ENSG00000237613.2;gene_id=ENSG00000237613.2...</td>\n",
       "    </tr>\n",
       "    <tr>\n",
       "      <th>4</th>\n",
       "      <td>chr1</td>\n",
       "      <td>52473</td>\n",
       "      <td>54936</td>\n",
       "      <td>ID=ENSG00000268020.2;gene_id=ENSG00000268020.2...</td>\n",
       "    </tr>\n",
       "  </tbody>\n",
       "</table>\n",
       "</div>"
      ],
      "text/plain": [
       "  seqname  start    end                                          attribute\n",
       "0    chr1  11869  14412  ID=ENSG00000223972.4;gene_id=ENSG00000223972.4...\n",
       "1    chr1  14363  29806  ID=ENSG00000227232.4;gene_id=ENSG00000227232.4...\n",
       "2    chr1  29554  31109  ID=ENSG00000243485.2;gene_id=ENSG00000243485.2...\n",
       "3    chr1  34554  36081  ID=ENSG00000237613.2;gene_id=ENSG00000237613.2...\n",
       "4    chr1  52473  54936  ID=ENSG00000268020.2;gene_id=ENSG00000268020.2..."
      ]
     },
     "execution_count": 5,
     "metadata": {},
     "output_type": "execute_result"
    }
   ],
   "source": [
    "gencode_genes.head()"
   ]
  },
  {
   "cell_type": "markdown",
   "metadata": {},
   "source": [
    "#### 3. Extract gene_name, gene_type, gene_status, level of each gene"
   ]
  },
  {
   "cell_type": "code",
   "execution_count": 6,
   "metadata": {},
   "outputs": [],
   "source": [
    "def gene_info(x):\n",
    "    # Extract gene names\n",
    "    g_name = list(filter(lambda x: 'gene_name' in x,  x.split(\";\")))[0].split(\"=\")[1]\n",
    "    g_type = list(filter(lambda x: 'gene_type' in x,  x.split(\";\")))[0].split(\"=\")[1]\n",
    "    g_status = list(filter(lambda x: 'gene_status' in x,  x.split(\";\")))[0].split(\"=\")[1]\n",
    "    g_leve = int(list(filter(lambda x: 'level' in x,  x.split(\";\")))[0].split(\"=\")[1])\n",
    "    return (g_name, g_type, g_status, g_leve)"
   ]
  },
  {
   "cell_type": "code",
   "execution_count": 7,
   "metadata": {},
   "outputs": [
    {
     "data": {
      "text/html": [
       "<div>\n",
       "<style scoped>\n",
       "    .dataframe tbody tr th:only-of-type {\n",
       "        vertical-align: middle;\n",
       "    }\n",
       "\n",
       "    .dataframe tbody tr th {\n",
       "        vertical-align: top;\n",
       "    }\n",
       "\n",
       "    .dataframe thead th {\n",
       "        text-align: right;\n",
       "    }\n",
       "</style>\n",
       "<table border=\"1\" class=\"dataframe\">\n",
       "  <thead>\n",
       "    <tr style=\"text-align: right;\">\n",
       "      <th></th>\n",
       "      <th>seqname</th>\n",
       "      <th>start</th>\n",
       "      <th>end</th>\n",
       "      <th>attribute</th>\n",
       "      <th>gene_name</th>\n",
       "      <th>gene_type</th>\n",
       "      <th>gene_status</th>\n",
       "      <th>gene_level</th>\n",
       "    </tr>\n",
       "  </thead>\n",
       "  <tbody>\n",
       "    <tr>\n",
       "      <th>0</th>\n",
       "      <td>chr1</td>\n",
       "      <td>11869</td>\n",
       "      <td>14412</td>\n",
       "      <td>ID=ENSG00000223972.4;gene_id=ENSG00000223972.4...</td>\n",
       "      <td>DDX11L1</td>\n",
       "      <td>pseudogene</td>\n",
       "      <td>KNOWN</td>\n",
       "      <td>2</td>\n",
       "    </tr>\n",
       "    <tr>\n",
       "      <th>1</th>\n",
       "      <td>chr1</td>\n",
       "      <td>14363</td>\n",
       "      <td>29806</td>\n",
       "      <td>ID=ENSG00000227232.4;gene_id=ENSG00000227232.4...</td>\n",
       "      <td>WASH7P</td>\n",
       "      <td>pseudogene</td>\n",
       "      <td>KNOWN</td>\n",
       "      <td>2</td>\n",
       "    </tr>\n",
       "    <tr>\n",
       "      <th>2</th>\n",
       "      <td>chr1</td>\n",
       "      <td>29554</td>\n",
       "      <td>31109</td>\n",
       "      <td>ID=ENSG00000243485.2;gene_id=ENSG00000243485.2...</td>\n",
       "      <td>MIR1302-11</td>\n",
       "      <td>lincRNA</td>\n",
       "      <td>NOVEL</td>\n",
       "      <td>2</td>\n",
       "    </tr>\n",
       "    <tr>\n",
       "      <th>3</th>\n",
       "      <td>chr1</td>\n",
       "      <td>34554</td>\n",
       "      <td>36081</td>\n",
       "      <td>ID=ENSG00000237613.2;gene_id=ENSG00000237613.2...</td>\n",
       "      <td>FAM138A</td>\n",
       "      <td>lincRNA</td>\n",
       "      <td>KNOWN</td>\n",
       "      <td>2</td>\n",
       "    </tr>\n",
       "    <tr>\n",
       "      <th>4</th>\n",
       "      <td>chr1</td>\n",
       "      <td>52473</td>\n",
       "      <td>54936</td>\n",
       "      <td>ID=ENSG00000268020.2;gene_id=ENSG00000268020.2...</td>\n",
       "      <td>OR4G4P</td>\n",
       "      <td>pseudogene</td>\n",
       "      <td>KNOWN</td>\n",
       "      <td>2</td>\n",
       "    </tr>\n",
       "  </tbody>\n",
       "</table>\n",
       "</div>"
      ],
      "text/plain": [
       "  seqname  start    end                                          attribute  \\\n",
       "0    chr1  11869  14412  ID=ENSG00000223972.4;gene_id=ENSG00000223972.4...   \n",
       "1    chr1  14363  29806  ID=ENSG00000227232.4;gene_id=ENSG00000227232.4...   \n",
       "2    chr1  29554  31109  ID=ENSG00000243485.2;gene_id=ENSG00000243485.2...   \n",
       "3    chr1  34554  36081  ID=ENSG00000237613.2;gene_id=ENSG00000237613.2...   \n",
       "4    chr1  52473  54936  ID=ENSG00000268020.2;gene_id=ENSG00000268020.2...   \n",
       "\n",
       "    gene_name   gene_type gene_status  gene_level  \n",
       "0     DDX11L1  pseudogene       KNOWN           2  \n",
       "1      WASH7P  pseudogene       KNOWN           2  \n",
       "2  MIR1302-11     lincRNA       NOVEL           2  \n",
       "3     FAM138A     lincRNA       KNOWN           2  \n",
       "4      OR4G4P  pseudogene       KNOWN           2  "
      ]
     },
     "execution_count": 7,
     "metadata": {},
     "output_type": "execute_result"
    }
   ],
   "source": [
    "gencode_genes[\"gene_name\"], gencode_genes[\"gene_type\"], gencode_genes[\"gene_status\"], gencode_genes[\"gene_level\"] = zip(*gencode_genes.attribute.apply(lambda x: gene_info(x)))\n",
    "gencode_genes.head()"
   ]
  },
  {
   "cell_type": "code",
   "execution_count": 8,
   "metadata": {},
   "outputs": [
    {
     "data": {
      "text/plain": [
       "0                      pseudogene\n",
       "2                         lincRNA\n",
       "6                  protein_coding\n",
       "13                      antisense\n",
       "14           processed_transcript\n",
       "15                          snRNA\n",
       "76                 sense_intronic\n",
       "82                          miRNA\n",
       "110                      misc_RNA\n",
       "254                        snoRNA\n",
       "315                          rRNA\n",
       "608      3prime_overlapping_ncrna\n",
       "614        polymorphic_pseudogene\n",
       "1274            sense_overlapping\n",
       "6806                    IG_V_gene\n",
       "6849                    IG_C_gene\n",
       "6850                    IG_J_gene\n",
       "6857              IG_V_pseudogene\n",
       "21480                   TR_C_gene\n",
       "21481                   TR_J_gene\n",
       "21487                   TR_V_gene\n",
       "21488             TR_V_pseudogene\n",
       "26189             IG_C_pseudogene\n",
       "38188                   TR_D_gene\n",
       "38198             TR_J_pseudogene\n",
       "39997             IG_J_pseudogene\n",
       "40004                   IG_D_gene\n",
       "57783                     Mt_tRNA\n",
       "57784                     Mt_rRNA\n",
       "Name: gene_type, dtype: object"
      ]
     },
     "execution_count": 8,
     "metadata": {},
     "output_type": "execute_result"
    }
   ],
   "source": [
    "gencode_genes['gene_type'].drop_duplicates()"
   ]
  },
  {
   "cell_type": "markdown",
   "metadata": {},
   "source": [
    "#### 4. Extract all known protein_coding genes"
   ]
  },
  {
   "cell_type": "code",
   "execution_count": 9,
   "metadata": {},
   "outputs": [
    {
     "name": "stdout",
     "output_type": "stream",
     "text": [
      "<class 'pandas.core.frame.DataFrame'>\n",
      "RangeIndex: 19456 entries, 0 to 19455\n",
      "Data columns (total 8 columns):\n",
      "seqname        19456 non-null object\n",
      "start          19456 non-null int64\n",
      "end            19456 non-null int64\n",
      "attribute      19456 non-null object\n",
      "gene_name      19456 non-null object\n",
      "gene_type      19456 non-null object\n",
      "gene_status    19456 non-null object\n",
      "gene_level     19456 non-null int64\n",
      "dtypes: int64(3), object(5)\n",
      "memory usage: 1.2+ MB\n"
     ]
    }
   ],
   "source": [
    "gencode_genes = gencode_genes[gencode_genes['gene_status'] == 'KNOWN'].reset_index().drop('index', axis=1)\n",
    "gencode_genes = gencode_genes[gencode_genes['gene_type'] == 'protein_coding'].reset_index().drop('index', axis=1)\n",
    "gencode_genes.info()"
   ]
  },
  {
   "cell_type": "markdown",
   "metadata": {},
   "source": [
    "#### 5. Remove duplicates - Prioritize verified and manually annotated loci over automatically annotated loci\n",
    "Gene level column can be used to prioritize genes when removing duplicates \n",
    "1. verified loci\n",
    "2. manually annotated loci\n",
    "3. automatically annotated loci"
   ]
  },
  {
   "cell_type": "code",
   "execution_count": 10,
   "metadata": {},
   "outputs": [
    {
     "data": {
      "text/html": [
       "<div>\n",
       "<style scoped>\n",
       "    .dataframe tbody tr th:only-of-type {\n",
       "        vertical-align: middle;\n",
       "    }\n",
       "\n",
       "    .dataframe tbody tr th {\n",
       "        vertical-align: top;\n",
       "    }\n",
       "\n",
       "    .dataframe thead th {\n",
       "        text-align: right;\n",
       "    }\n",
       "</style>\n",
       "<table border=\"1\" class=\"dataframe\">\n",
       "  <thead>\n",
       "    <tr style=\"text-align: right;\">\n",
       "      <th></th>\n",
       "      <th>seqname</th>\n",
       "      <th>start</th>\n",
       "      <th>end</th>\n",
       "      <th>attribute</th>\n",
       "      <th>gene_name</th>\n",
       "      <th>gene_type</th>\n",
       "      <th>gene_status</th>\n",
       "      <th>gene_level</th>\n",
       "    </tr>\n",
       "  </thead>\n",
       "  <tbody>\n",
       "    <tr>\n",
       "      <th>0</th>\n",
       "      <td>chr1</td>\n",
       "      <td>1246965</td>\n",
       "      <td>1260071</td>\n",
       "      <td>ID=ENSG00000127054.14;gene_id=ENSG00000127054....</td>\n",
       "      <td>CPSF3L</td>\n",
       "      <td>protein_coding</td>\n",
       "      <td>KNOWN</td>\n",
       "      <td>1</td>\n",
       "    </tr>\n",
       "    <tr>\n",
       "      <th>1</th>\n",
       "      <td>chr1</td>\n",
       "      <td>1337288</td>\n",
       "      <td>1342693</td>\n",
       "      <td>ID=ENSG00000242485.1;gene_id=ENSG00000242485.1...</td>\n",
       "      <td>MRPL20</td>\n",
       "      <td>protein_coding</td>\n",
       "      <td>KNOWN</td>\n",
       "      <td>1</td>\n",
       "    </tr>\n",
       "    <tr>\n",
       "      <th>2</th>\n",
       "      <td>chr1</td>\n",
       "      <td>1353800</td>\n",
       "      <td>1357149</td>\n",
       "      <td>ID=ENSG00000235098.4;gene_id=ENSG00000235098.4...</td>\n",
       "      <td>ANKRD65</td>\n",
       "      <td>protein_coding</td>\n",
       "      <td>KNOWN</td>\n",
       "      <td>1</td>\n",
       "    </tr>\n",
       "    <tr>\n",
       "      <th>3</th>\n",
       "      <td>chr1</td>\n",
       "      <td>1550795</td>\n",
       "      <td>1565990</td>\n",
       "      <td>ID=ENSG00000197530.8;gene_id=ENSG00000197530.8...</td>\n",
       "      <td>MIB2</td>\n",
       "      <td>protein_coding</td>\n",
       "      <td>KNOWN</td>\n",
       "      <td>1</td>\n",
       "    </tr>\n",
       "    <tr>\n",
       "      <th>4</th>\n",
       "      <td>chr1</td>\n",
       "      <td>1716729</td>\n",
       "      <td>1822495</td>\n",
       "      <td>ID=ENSG00000078369.13;gene_id=ENSG00000078369....</td>\n",
       "      <td>GNB1</td>\n",
       "      <td>protein_coding</td>\n",
       "      <td>KNOWN</td>\n",
       "      <td>1</td>\n",
       "    </tr>\n",
       "  </tbody>\n",
       "</table>\n",
       "</div>"
      ],
      "text/plain": [
       "  seqname    start      end  \\\n",
       "0    chr1  1246965  1260071   \n",
       "1    chr1  1337288  1342693   \n",
       "2    chr1  1353800  1357149   \n",
       "3    chr1  1550795  1565990   \n",
       "4    chr1  1716729  1822495   \n",
       "\n",
       "                                           attribute gene_name  \\\n",
       "0  ID=ENSG00000127054.14;gene_id=ENSG00000127054....    CPSF3L   \n",
       "1  ID=ENSG00000242485.1;gene_id=ENSG00000242485.1...    MRPL20   \n",
       "2  ID=ENSG00000235098.4;gene_id=ENSG00000235098.4...   ANKRD65   \n",
       "3  ID=ENSG00000197530.8;gene_id=ENSG00000197530.8...      MIB2   \n",
       "4  ID=ENSG00000078369.13;gene_id=ENSG00000078369....      GNB1   \n",
       "\n",
       "        gene_type gene_status  gene_level  \n",
       "0  protein_coding       KNOWN           1  \n",
       "1  protein_coding       KNOWN           1  \n",
       "2  protein_coding       KNOWN           1  \n",
       "3  protein_coding       KNOWN           1  \n",
       "4  protein_coding       KNOWN           1  "
      ]
     },
     "execution_count": 10,
     "metadata": {},
     "output_type": "execute_result"
    }
   ],
   "source": [
    "## Sort gene_leve in each chromosome (ascending oder) and remove duplicates\n",
    "gencode_genes = gencode_genes.sort_values(['gene_level', 'seqname'], ascending=True).drop_duplicates('gene_name', keep='first').reset_index().drop('index', axis=1) \n",
    "gencode_genes.head()"
   ]
  },
  {
   "cell_type": "code",
   "execution_count": 11,
   "metadata": {},
   "outputs": [
    {
     "name": "stdout",
     "output_type": "stream",
     "text": [
      "<class 'pandas.core.frame.DataFrame'>\n",
      "RangeIndex: 19410 entries, 0 to 19409\n",
      "Data columns (total 8 columns):\n",
      "seqname        19410 non-null object\n",
      "start          19410 non-null int64\n",
      "end            19410 non-null int64\n",
      "attribute      19410 non-null object\n",
      "gene_name      19410 non-null object\n",
      "gene_type      19410 non-null object\n",
      "gene_status    19410 non-null object\n",
      "gene_level     19410 non-null int64\n",
      "dtypes: int64(3), object(5)\n",
      "memory usage: 1.2+ MB\n"
     ]
    }
   ],
   "source": [
    "gencode_genes.info()"
   ]
  },
  {
   "cell_type": "markdown",
   "metadata": {},
   "source": [
    "* Step 5 removed 46 records (19455-19409)"
   ]
  },
  {
   "cell_type": "code",
   "execution_count": 12,
   "metadata": {},
   "outputs": [],
   "source": [
    "gencode_genes.to_csv('gencode.v19.annotation.gff3_all_known_genes.txt', index=False, header = False, sep=\"\\t\")"
   ]
  },
  {
   "cell_type": "code",
   "execution_count": 13,
   "metadata": {},
   "outputs": [],
   "source": [
    "%%bash -s gencode.v19.annotation.gff3_all_known_genes.txt\n",
    "cut -f 1,2,3,5 $1 | sortBed -i > gencode.v19.annotation.gff3_all_known_genes.txt.sorted.formatted.txt"
   ]
  },
  {
   "cell_type": "code",
   "execution_count": null,
   "metadata": {},
   "outputs": [],
   "source": []
  },
  {
   "cell_type": "code",
   "execution_count": null,
   "metadata": {},
   "outputs": [],
   "source": []
  },
  {
   "cell_type": "code",
   "execution_count": null,
   "metadata": {},
   "outputs": [],
   "source": []
  },
  {
   "cell_type": "code",
   "execution_count": null,
   "metadata": {},
   "outputs": [],
   "source": []
  },
  {
   "cell_type": "code",
   "execution_count": null,
   "metadata": {},
   "outputs": [],
   "source": []
  }
 ],
 "metadata": {
  "kernelspec": {
   "display_name": "Python (py36)",
   "language": "python",
   "name": "py36"
  },
  "language_info": {
   "codemirror_mode": {
    "name": "ipython",
    "version": 3
   },
   "file_extension": ".py",
   "mimetype": "text/x-python",
   "name": "python",
   "nbconvert_exporter": "python",
   "pygments_lexer": "ipython3",
   "version": "3.6.3"
  }
 },
 "nbformat": 4,
 "nbformat_minor": 2
}
