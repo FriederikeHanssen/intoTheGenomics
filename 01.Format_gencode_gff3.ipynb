{
 "cells": [
  {
   "cell_type": "code",
   "execution_count": 1,
   "metadata": {},
   "outputs": [],
   "source": [
    "import pandas as pd\n",
    "import numpy as np\n",
    "import pysam"
   ]
  },
  {
   "cell_type": "markdown",
   "metadata": {},
   "source": [
    "## Format GENCODE gff3 file"
   ]
  },
  {
   "cell_type": "markdown",
   "metadata": {},
   "source": [
    "#### 1. Read gff3 file into a pandas dataframe and examine the GENCODE file format"
   ]
  },
  {
   "cell_type": "code",
   "execution_count": 2,
   "metadata": {},
   "outputs": [
    {
     "data": {
      "text/html": [
       "<div>\n",
       "<style scoped>\n",
       "    .dataframe tbody tr th:only-of-type {\n",
       "        vertical-align: middle;\n",
       "    }\n",
       "\n",
       "    .dataframe tbody tr th {\n",
       "        vertical-align: top;\n",
       "    }\n",
       "\n",
       "    .dataframe thead th {\n",
       "        text-align: right;\n",
       "    }\n",
       "</style>\n",
       "<table border=\"1\" class=\"dataframe\">\n",
       "  <thead>\n",
       "    <tr style=\"text-align: right;\">\n",
       "      <th></th>\n",
       "      <th>seqname</th>\n",
       "      <th>source</th>\n",
       "      <th>feature</th>\n",
       "      <th>start</th>\n",
       "      <th>end</th>\n",
       "      <th>score</th>\n",
       "      <th>strand</th>\n",
       "      <th>frame</th>\n",
       "      <th>attribute</th>\n",
       "    </tr>\n",
       "  </thead>\n",
       "  <tbody>\n",
       "    <tr>\n",
       "      <th>0</th>\n",
       "      <td>chr1</td>\n",
       "      <td>HAVANA</td>\n",
       "      <td>gene</td>\n",
       "      <td>11869</td>\n",
       "      <td>14412</td>\n",
       "      <td>.</td>\n",
       "      <td>+</td>\n",
       "      <td>.</td>\n",
       "      <td>ID=ENSG00000223972.4;gene_id=ENSG00000223972.4...</td>\n",
       "    </tr>\n",
       "    <tr>\n",
       "      <th>1</th>\n",
       "      <td>chr1</td>\n",
       "      <td>HAVANA</td>\n",
       "      <td>transcript</td>\n",
       "      <td>11869</td>\n",
       "      <td>14409</td>\n",
       "      <td>.</td>\n",
       "      <td>+</td>\n",
       "      <td>.</td>\n",
       "      <td>ID=ENST00000456328.2;Parent=ENSG00000223972.4;...</td>\n",
       "    </tr>\n",
       "    <tr>\n",
       "      <th>2</th>\n",
       "      <td>chr1</td>\n",
       "      <td>HAVANA</td>\n",
       "      <td>exon</td>\n",
       "      <td>11869</td>\n",
       "      <td>12227</td>\n",
       "      <td>.</td>\n",
       "      <td>+</td>\n",
       "      <td>.</td>\n",
       "      <td>ID=exon:ENST00000456328.2:1;Parent=ENST0000045...</td>\n",
       "    </tr>\n",
       "    <tr>\n",
       "      <th>3</th>\n",
       "      <td>chr1</td>\n",
       "      <td>HAVANA</td>\n",
       "      <td>exon</td>\n",
       "      <td>12613</td>\n",
       "      <td>12721</td>\n",
       "      <td>.</td>\n",
       "      <td>+</td>\n",
       "      <td>.</td>\n",
       "      <td>ID=exon:ENST00000456328.2:2;Parent=ENST0000045...</td>\n",
       "    </tr>\n",
       "    <tr>\n",
       "      <th>4</th>\n",
       "      <td>chr1</td>\n",
       "      <td>HAVANA</td>\n",
       "      <td>exon</td>\n",
       "      <td>13221</td>\n",
       "      <td>14409</td>\n",
       "      <td>.</td>\n",
       "      <td>+</td>\n",
       "      <td>.</td>\n",
       "      <td>ID=exon:ENST00000456328.2:3;Parent=ENST0000045...</td>\n",
       "    </tr>\n",
       "  </tbody>\n",
       "</table>\n",
       "</div>"
      ],
      "text/plain": [
       "  seqname  source     feature  start    end score strand frame  \\\n",
       "0    chr1  HAVANA        gene  11869  14412     .      +     .   \n",
       "1    chr1  HAVANA  transcript  11869  14409     .      +     .   \n",
       "2    chr1  HAVANA        exon  11869  12227     .      +     .   \n",
       "3    chr1  HAVANA        exon  12613  12721     .      +     .   \n",
       "4    chr1  HAVANA        exon  13221  14409     .      +     .   \n",
       "\n",
       "                                           attribute  \n",
       "0  ID=ENSG00000223972.4;gene_id=ENSG00000223972.4...  \n",
       "1  ID=ENST00000456328.2;Parent=ENSG00000223972.4;...  \n",
       "2  ID=exon:ENST00000456328.2:1;Parent=ENST0000045...  \n",
       "3  ID=exon:ENST00000456328.2:2;Parent=ENST0000045...  \n",
       "4  ID=exon:ENST00000456328.2:3;Parent=ENST0000045...  "
      ]
     },
     "execution_count": 2,
     "metadata": {},
     "output_type": "execute_result"
    }
   ],
   "source": [
    "gencode = pd.read_table(\"/Users/pubudu/Documents/RefData/Gencode/gencode.v19.annotation.gff3\", comment=\"#\",\n",
    "                        sep = \"\\t\", names = ['seqname', 'source', 'feature', 'start' , 'end', 'score', 'strand', 'frame', 'attribute'])\n",
    "gencode.head()"
   ]
  },
  {
   "cell_type": "code",
   "execution_count": 3,
   "metadata": {},
   "outputs": [
    {
     "name": "stdout",
     "output_type": "stream",
     "text": [
      "<class 'pandas.core.frame.DataFrame'>\n",
      "RangeIndex: 2615566 entries, 0 to 2615565\n",
      "Data columns (total 9 columns):\n",
      "seqname      object\n",
      "source       object\n",
      "feature      object\n",
      "start        int64\n",
      "end          int64\n",
      "score        object\n",
      "strand       object\n",
      "frame        object\n",
      "attribute    object\n",
      "dtypes: int64(2), object(7)\n",
      "memory usage: 179.6+ MB\n"
     ]
    }
   ],
   "source": [
    "gencode.info()"
   ]
  },
  {
   "cell_type": "markdown",
   "metadata": {},
   "source": [
    "#### 2. Extract Genes in the gff3 file \"feature = gene\""
   ]
  },
  {
   "cell_type": "code",
   "execution_count": 4,
   "metadata": {},
   "outputs": [
    {
     "name": "stdout",
     "output_type": "stream",
     "text": [
      "<class 'pandas.core.frame.DataFrame'>\n",
      "RangeIndex: 57820 entries, 0 to 57819\n",
      "Data columns (total 4 columns):\n",
      "seqname      57820 non-null object\n",
      "start        57820 non-null int64\n",
      "end          57820 non-null int64\n",
      "attribute    57820 non-null object\n",
      "dtypes: int64(2), object(2)\n",
      "memory usage: 1.8+ MB\n"
     ]
    }
   ],
   "source": [
    "gencode_genes = gencode[(gencode.feature == \"gene\")][['seqname', 'start', 'end', 'attribute']].copy().reset_index().drop('index', axis=1) # Extract genes\n",
    "gencode_genes.info()"
   ]
  },
  {
   "cell_type": "code",
   "execution_count": 5,
   "metadata": {},
   "outputs": [
    {
     "data": {
      "text/html": [
       "<div>\n",
       "<style scoped>\n",
       "    .dataframe tbody tr th:only-of-type {\n",
       "        vertical-align: middle;\n",
       "    }\n",
       "\n",
       "    .dataframe tbody tr th {\n",
       "        vertical-align: top;\n",
       "    }\n",
       "\n",
       "    .dataframe thead th {\n",
       "        text-align: right;\n",
       "    }\n",
       "</style>\n",
       "<table border=\"1\" class=\"dataframe\">\n",
       "  <thead>\n",
       "    <tr style=\"text-align: right;\">\n",
       "      <th></th>\n",
       "      <th>seqname</th>\n",
       "      <th>start</th>\n",
       "      <th>end</th>\n",
       "      <th>attribute</th>\n",
       "    </tr>\n",
       "  </thead>\n",
       "  <tbody>\n",
       "    <tr>\n",
       "      <th>0</th>\n",
       "      <td>chr1</td>\n",
       "      <td>11869</td>\n",
       "      <td>14412</td>\n",
       "      <td>ID=ENSG00000223972.4;gene_id=ENSG00000223972.4...</td>\n",
       "    </tr>\n",
       "    <tr>\n",
       "      <th>1</th>\n",
       "      <td>chr1</td>\n",
       "      <td>14363</td>\n",
       "      <td>29806</td>\n",
       "      <td>ID=ENSG00000227232.4;gene_id=ENSG00000227232.4...</td>\n",
       "    </tr>\n",
       "    <tr>\n",
       "      <th>2</th>\n",
       "      <td>chr1</td>\n",
       "      <td>29554</td>\n",
       "      <td>31109</td>\n",
       "      <td>ID=ENSG00000243485.2;gene_id=ENSG00000243485.2...</td>\n",
       "    </tr>\n",
       "    <tr>\n",
       "      <th>3</th>\n",
       "      <td>chr1</td>\n",
       "      <td>34554</td>\n",
       "      <td>36081</td>\n",
       "      <td>ID=ENSG00000237613.2;gene_id=ENSG00000237613.2...</td>\n",
       "    </tr>\n",
       "    <tr>\n",
       "      <th>4</th>\n",
       "      <td>chr1</td>\n",
       "      <td>52473</td>\n",
       "      <td>54936</td>\n",
       "      <td>ID=ENSG00000268020.2;gene_id=ENSG00000268020.2...</td>\n",
       "    </tr>\n",
       "  </tbody>\n",
       "</table>\n",
       "</div>"
      ],
      "text/plain": [
       "  seqname  start    end                                          attribute\n",
       "0    chr1  11869  14412  ID=ENSG00000223972.4;gene_id=ENSG00000223972.4...\n",
       "1    chr1  14363  29806  ID=ENSG00000227232.4;gene_id=ENSG00000227232.4...\n",
       "2    chr1  29554  31109  ID=ENSG00000243485.2;gene_id=ENSG00000243485.2...\n",
       "3    chr1  34554  36081  ID=ENSG00000237613.2;gene_id=ENSG00000237613.2...\n",
       "4    chr1  52473  54936  ID=ENSG00000268020.2;gene_id=ENSG00000268020.2..."
      ]
     },
     "execution_count": 5,
     "metadata": {},
     "output_type": "execute_result"
    }
   ],
   "source": [
    "gencode_genes.head()"
   ]
  },
  {
   "cell_type": "markdown",
   "metadata": {},
   "source": [
    "#### 3. Extract gene_name, gene_type, gene_status, level of each gene"
   ]
  },
  {
   "cell_type": "code",
   "execution_count": 6,
   "metadata": {},
   "outputs": [],
   "source": [
    "def gene_info(x):\n",
    "    # Extract gene names\n",
    "    g_name = list(filter(lambda x: 'gene_name' in x,  x.split(\";\")))[0].split(\"=\")[1]\n",
    "    g_type = list(filter(lambda x: 'gene_type' in x,  x.split(\";\")))[0].split(\"=\")[1]\n",
    "    g_status = list(filter(lambda x: 'gene_status' in x,  x.split(\";\")))[0].split(\"=\")[1]\n",
    "    g_leve = int(list(filter(lambda x: 'level' in x,  x.split(\";\")))[0].split(\"=\")[1])\n",
    "    return (g_name, g_type, g_status, g_leve)"
   ]
  },
  {
   "cell_type": "code",
   "execution_count": 7,
   "metadata": {},
   "outputs": [
    {
     "data": {
      "text/html": [
       "<div>\n",
       "<style scoped>\n",
       "    .dataframe tbody tr th:only-of-type {\n",
       "        vertical-align: middle;\n",
       "    }\n",
       "\n",
       "    .dataframe tbody tr th {\n",
       "        vertical-align: top;\n",
       "    }\n",
       "\n",
       "    .dataframe thead th {\n",
       "        text-align: right;\n",
       "    }\n",
       "</style>\n",
       "<table border=\"1\" class=\"dataframe\">\n",
       "  <thead>\n",
       "    <tr style=\"text-align: right;\">\n",
       "      <th></th>\n",
       "      <th>seqname</th>\n",
       "      <th>start</th>\n",
       "      <th>end</th>\n",
       "      <th>attribute</th>\n",
       "      <th>gene_name</th>\n",
       "      <th>gene_type</th>\n",
       "      <th>gene_status</th>\n",
       "      <th>gene_level</th>\n",
       "    </tr>\n",
       "  </thead>\n",
       "  <tbody>\n",
       "    <tr>\n",
       "      <th>0</th>\n",
       "      <td>chr1</td>\n",
       "      <td>11869</td>\n",
       "      <td>14412</td>\n",
       "      <td>ID=ENSG00000223972.4;gene_id=ENSG00000223972.4...</td>\n",
       "      <td>DDX11L1</td>\n",
       "      <td>pseudogene</td>\n",
       "      <td>KNOWN</td>\n",
       "      <td>2</td>\n",
       "    </tr>\n",
       "    <tr>\n",
       "      <th>1</th>\n",
       "      <td>chr1</td>\n",
       "      <td>14363</td>\n",
       "      <td>29806</td>\n",
       "      <td>ID=ENSG00000227232.4;gene_id=ENSG00000227232.4...</td>\n",
       "      <td>WASH7P</td>\n",
       "      <td>pseudogene</td>\n",
       "      <td>KNOWN</td>\n",
       "      <td>2</td>\n",
       "    </tr>\n",
       "    <tr>\n",
       "      <th>2</th>\n",
       "      <td>chr1</td>\n",
       "      <td>29554</td>\n",
       "      <td>31109</td>\n",
       "      <td>ID=ENSG00000243485.2;gene_id=ENSG00000243485.2...</td>\n",
       "      <td>MIR1302-11</td>\n",
       "      <td>lincRNA</td>\n",
       "      <td>NOVEL</td>\n",
       "      <td>2</td>\n",
       "    </tr>\n",
       "    <tr>\n",
       "      <th>3</th>\n",
       "      <td>chr1</td>\n",
       "      <td>34554</td>\n",
       "      <td>36081</td>\n",
       "      <td>ID=ENSG00000237613.2;gene_id=ENSG00000237613.2...</td>\n",
       "      <td>FAM138A</td>\n",
       "      <td>lincRNA</td>\n",
       "      <td>KNOWN</td>\n",
       "      <td>2</td>\n",
       "    </tr>\n",
       "    <tr>\n",
       "      <th>4</th>\n",
       "      <td>chr1</td>\n",
       "      <td>52473</td>\n",
       "      <td>54936</td>\n",
       "      <td>ID=ENSG00000268020.2;gene_id=ENSG00000268020.2...</td>\n",
       "      <td>OR4G4P</td>\n",
       "      <td>pseudogene</td>\n",
       "      <td>KNOWN</td>\n",
       "      <td>2</td>\n",
       "    </tr>\n",
       "  </tbody>\n",
       "</table>\n",
       "</div>"
      ],
      "text/plain": [
       "  seqname  start    end                                          attribute  \\\n",
       "0    chr1  11869  14412  ID=ENSG00000223972.4;gene_id=ENSG00000223972.4...   \n",
       "1    chr1  14363  29806  ID=ENSG00000227232.4;gene_id=ENSG00000227232.4...   \n",
       "2    chr1  29554  31109  ID=ENSG00000243485.2;gene_id=ENSG00000243485.2...   \n",
       "3    chr1  34554  36081  ID=ENSG00000237613.2;gene_id=ENSG00000237613.2...   \n",
       "4    chr1  52473  54936  ID=ENSG00000268020.2;gene_id=ENSG00000268020.2...   \n",
       "\n",
       "    gene_name   gene_type gene_status  gene_level  \n",
       "0     DDX11L1  pseudogene       KNOWN           2  \n",
       "1      WASH7P  pseudogene       KNOWN           2  \n",
       "2  MIR1302-11     lincRNA       NOVEL           2  \n",
       "3     FAM138A     lincRNA       KNOWN           2  \n",
       "4      OR4G4P  pseudogene       KNOWN           2  "
      ]
     },
     "execution_count": 7,
     "metadata": {},
     "output_type": "execute_result"
    }
   ],
   "source": [
    "gencode_genes[\"gene_name\"], gencode_genes[\"gene_type\"], gencode_genes[\"gene_status\"], gencode_genes[\"gene_level\"] = zip(*gencode_genes.attribute.apply(lambda x: gene_info(x)))\n",
    "gencode_genes.head()"
   ]
  },
  {
   "cell_type": "code",
   "execution_count": 8,
   "metadata": {},
   "outputs": [
    {
     "data": {
      "text/plain": [
       "0                      pseudogene\n",
       "2                         lincRNA\n",
       "6                  protein_coding\n",
       "13                      antisense\n",
       "14           processed_transcript\n",
       "15                          snRNA\n",
       "76                 sense_intronic\n",
       "82                          miRNA\n",
       "110                      misc_RNA\n",
       "254                        snoRNA\n",
       "315                          rRNA\n",
       "608      3prime_overlapping_ncrna\n",
       "614        polymorphic_pseudogene\n",
       "1274            sense_overlapping\n",
       "6806                    IG_V_gene\n",
       "6849                    IG_C_gene\n",
       "6850                    IG_J_gene\n",
       "6857              IG_V_pseudogene\n",
       "21480                   TR_C_gene\n",
       "21481                   TR_J_gene\n",
       "21487                   TR_V_gene\n",
       "21488             TR_V_pseudogene\n",
       "26189             IG_C_pseudogene\n",
       "38188                   TR_D_gene\n",
       "38198             TR_J_pseudogene\n",
       "39997             IG_J_pseudogene\n",
       "40004                   IG_D_gene\n",
       "57783                     Mt_tRNA\n",
       "57784                     Mt_rRNA\n",
       "Name: gene_type, dtype: object"
      ]
     },
     "execution_count": 8,
     "metadata": {},
     "output_type": "execute_result"
    }
   ],
   "source": [
    "gencode_genes['gene_type'].drop_duplicates()"
   ]
  },
  {
   "cell_type": "markdown",
   "metadata": {},
   "source": [
    "#### 4. Extract all known protein_coding genes"
   ]
  },
  {
   "cell_type": "code",
   "execution_count": 9,
   "metadata": {},
   "outputs": [
    {
     "name": "stdout",
     "output_type": "stream",
     "text": [
      "<class 'pandas.core.frame.DataFrame'>\n",
      "RangeIndex: 19456 entries, 0 to 19455\n",
      "Data columns (total 8 columns):\n",
      "seqname        19456 non-null object\n",
      "start          19456 non-null int64\n",
      "end            19456 non-null int64\n",
      "attribute      19456 non-null object\n",
      "gene_name      19456 non-null object\n",
      "gene_type      19456 non-null object\n",
      "gene_status    19456 non-null object\n",
      "gene_level     19456 non-null int64\n",
      "dtypes: int64(3), object(5)\n",
      "memory usage: 1.2+ MB\n"
     ]
    }
   ],
   "source": [
    "gencode_genes = gencode_genes[gencode_genes['gene_status'] == 'KNOWN'].reset_index().drop('index', axis=1)\n",
    "gencode_genes = gencode_genes[gencode_genes['gene_type'] == 'protein_coding'].reset_index().drop('index', axis=1)\n",
    "gencode_genes.info()"
   ]
  },
  {
   "cell_type": "markdown",
   "metadata": {},
   "source": [
    "#### 5. Remove duplicates - Prioritize verified and manually annotated loci over automatically annotated loci\n",
    "Gene level column can be used to prioritize genes when removing duplicates \n",
    "1. verified loci\n",
    "2. manually annotated loci\n",
    "3. automatically annotated loci"
   ]
  },
  {
   "cell_type": "code",
   "execution_count": 10,
   "metadata": {},
   "outputs": [
    {
     "data": {
      "text/html": [
       "<div>\n",
       "<style scoped>\n",
       "    .dataframe tbody tr th:only-of-type {\n",
       "        vertical-align: middle;\n",
       "    }\n",
       "\n",
       "    .dataframe tbody tr th {\n",
       "        vertical-align: top;\n",
       "    }\n",
       "\n",
       "    .dataframe thead th {\n",
       "        text-align: right;\n",
       "    }\n",
       "</style>\n",
       "<table border=\"1\" class=\"dataframe\">\n",
       "  <thead>\n",
       "    <tr style=\"text-align: right;\">\n",
       "      <th></th>\n",
       "      <th>seqname</th>\n",
       "      <th>start</th>\n",
       "      <th>end</th>\n",
       "      <th>attribute</th>\n",
       "      <th>gene_name</th>\n",
       "      <th>gene_type</th>\n",
       "      <th>gene_status</th>\n",
       "      <th>gene_level</th>\n",
       "    </tr>\n",
       "  </thead>\n",
       "  <tbody>\n",
       "    <tr>\n",
       "      <th>0</th>\n",
       "      <td>chr1</td>\n",
       "      <td>1246965</td>\n",
       "      <td>1260071</td>\n",
       "      <td>ID=ENSG00000127054.14;gene_id=ENSG00000127054....</td>\n",
       "      <td>CPSF3L</td>\n",
       "      <td>protein_coding</td>\n",
       "      <td>KNOWN</td>\n",
       "      <td>1</td>\n",
       "    </tr>\n",
       "    <tr>\n",
       "      <th>1</th>\n",
       "      <td>chr1</td>\n",
       "      <td>1337288</td>\n",
       "      <td>1342693</td>\n",
       "      <td>ID=ENSG00000242485.1;gene_id=ENSG00000242485.1...</td>\n",
       "      <td>MRPL20</td>\n",
       "      <td>protein_coding</td>\n",
       "      <td>KNOWN</td>\n",
       "      <td>1</td>\n",
       "    </tr>\n",
       "    <tr>\n",
       "      <th>2</th>\n",
       "      <td>chr1</td>\n",
       "      <td>1353800</td>\n",
       "      <td>1357149</td>\n",
       "      <td>ID=ENSG00000235098.4;gene_id=ENSG00000235098.4...</td>\n",
       "      <td>ANKRD65</td>\n",
       "      <td>protein_coding</td>\n",
       "      <td>KNOWN</td>\n",
       "      <td>1</td>\n",
       "    </tr>\n",
       "    <tr>\n",
       "      <th>3</th>\n",
       "      <td>chr1</td>\n",
       "      <td>1550795</td>\n",
       "      <td>1565990</td>\n",
       "      <td>ID=ENSG00000197530.8;gene_id=ENSG00000197530.8...</td>\n",
       "      <td>MIB2</td>\n",
       "      <td>protein_coding</td>\n",
       "      <td>KNOWN</td>\n",
       "      <td>1</td>\n",
       "    </tr>\n",
       "    <tr>\n",
       "      <th>4</th>\n",
       "      <td>chr1</td>\n",
       "      <td>1716729</td>\n",
       "      <td>1822495</td>\n",
       "      <td>ID=ENSG00000078369.13;gene_id=ENSG00000078369....</td>\n",
       "      <td>GNB1</td>\n",
       "      <td>protein_coding</td>\n",
       "      <td>KNOWN</td>\n",
       "      <td>1</td>\n",
       "    </tr>\n",
       "  </tbody>\n",
       "</table>\n",
       "</div>"
      ],
      "text/plain": [
       "  seqname    start      end  \\\n",
       "0    chr1  1246965  1260071   \n",
       "1    chr1  1337288  1342693   \n",
       "2    chr1  1353800  1357149   \n",
       "3    chr1  1550795  1565990   \n",
       "4    chr1  1716729  1822495   \n",
       "\n",
       "                                           attribute gene_name  \\\n",
       "0  ID=ENSG00000127054.14;gene_id=ENSG00000127054....    CPSF3L   \n",
       "1  ID=ENSG00000242485.1;gene_id=ENSG00000242485.1...    MRPL20   \n",
       "2  ID=ENSG00000235098.4;gene_id=ENSG00000235098.4...   ANKRD65   \n",
       "3  ID=ENSG00000197530.8;gene_id=ENSG00000197530.8...      MIB2   \n",
       "4  ID=ENSG00000078369.13;gene_id=ENSG00000078369....      GNB1   \n",
       "\n",
       "        gene_type gene_status  gene_level  \n",
       "0  protein_coding       KNOWN           1  \n",
       "1  protein_coding       KNOWN           1  \n",
       "2  protein_coding       KNOWN           1  \n",
       "3  protein_coding       KNOWN           1  \n",
       "4  protein_coding       KNOWN           1  "
      ]
     },
     "execution_count": 10,
     "metadata": {},
     "output_type": "execute_result"
    }
   ],
   "source": [
    "## Sort gene_leve in each chromosome (ascending oder) and remove duplicates\n",
    "gencode_genes = gencode_genes.sort_values(['gene_level', 'seqname'], ascending=True).drop_duplicates('gene_name', keep='first').reset_index().drop('index', axis=1) \n",
    "gencode_genes.head()"
   ]
  },
  {
   "cell_type": "code",
   "execution_count": 11,
   "metadata": {},
   "outputs": [
    {
     "name": "stdout",
     "output_type": "stream",
     "text": [
      "<class 'pandas.core.frame.DataFrame'>\n",
      "RangeIndex: 19410 entries, 0 to 19409\n",
      "Data columns (total 8 columns):\n",
      "seqname        19410 non-null object\n",
      "start          19410 non-null int64\n",
      "end            19410 non-null int64\n",
      "attribute      19410 non-null object\n",
      "gene_name      19410 non-null object\n",
      "gene_type      19410 non-null object\n",
      "gene_status    19410 non-null object\n",
      "gene_level     19410 non-null int64\n",
      "dtypes: int64(3), object(5)\n",
      "memory usage: 1.2+ MB\n"
     ]
    }
   ],
   "source": [
    "gencode_genes.info()"
   ]
  },
  {
   "cell_type": "markdown",
   "metadata": {},
   "source": [
    "* Step 5 removed 46 records (19455-19409)"
   ]
  },
  {
   "cell_type": "code",
   "execution_count": 12,
   "metadata": {},
   "outputs": [],
   "source": [
    "gencode_genes.to_csv('gencode.v19.annotation.gff3_all_known_genes.txt', index=False, header = False, sep=\"\\t\")"
   ]
  },
  {
   "cell_type": "code",
   "execution_count": 13,
   "metadata": {},
   "outputs": [
    {
     "name": "stdout",
     "output_type": "stream",
     "text": [
      "total 12600\n",
      "-rw-r--r--  1 pubudu  staff    46267 21 Dec 00:01 01.Format_gencode_gff3.ipynb\n",
      "-rw-r--r--  1 pubudu  staff       59 20 Dec 20:07 README.md\n",
      "-rw-r--r--  1 pubudu  staff  6069939 21 Dec 00:01 gencode.v19.annotation.gff3_all_known_genes.txt\n",
      "-rw-r--r--  1 pubudu  staff   264198 21 Dec 00:01 gencode.v19.annotation.gff3_all_known_genes.txt.sorted.formatted.bed.gz\n",
      "-rw-r--r--  1 pubudu  staff    61119 21 Dec 00:01 gencode.v19.annotation.gff3_all_known_genes.txt.sorted.formatted.bed.gz.tbi\n"
     ]
    }
   ],
   "source": [
    "%%bash -s gencode.v19.annotation.gff3_all_known_genes.txt\n",
    "cut -f 1,2,3,5 $1 | sortBed -i > gencode.v19.annotation.gff3_all_known_genes.txt.sorted.formatted.bed\n",
    "bgzip gencode.v19.annotation.gff3_all_known_genes.txt.sorted.formatted.bed\n",
    "tabix -p bed gencode.v19.annotation.gff3_all_known_genes.txt.sorted.formatted.bed.gz\n",
    "ls -l"
   ]
  },
  {
   "cell_type": "code",
   "execution_count": null,
   "metadata": {},
   "outputs": [],
   "source": []
  },
  {
   "cell_type": "markdown",
   "metadata": {},
   "source": [
    "## Find genes that overlap with a set of genomic intervals"
   ]
  },
  {
   "cell_type": "markdown",
   "metadata": {},
   "source": [
    "#### 1. A function to calculate overlapping basepairs"
   ]
  },
  {
   "cell_type": "code",
   "execution_count": 14,
   "metadata": {},
   "outputs": [],
   "source": [
    "def overlap(q_st, q_end, res_st, res_end):\n",
    "    o  = min(q_end, res_end)-max(q_st, res_st)\n",
    "    return o"
   ]
  },
  {
   "cell_type": "code",
   "execution_count": 15,
   "metadata": {},
   "outputs": [
    {
     "name": "stdout",
     "output_type": "stream",
     "text": [
      "chr1\t9053667\t9153667\t24\t100000\t-\n",
      "chr1\t41637089\t41737089\t13\t100000\t+\n",
      "chr1\t91439086\t91539086\t2\t100000\t-\n",
      "chr1\t117295918\t117395918\t37\t100000\t+\n",
      "chr10\t328063\t428063\t47\t100000\t-\n",
      "chr10\t20335792\t20435792\t4\t100000\t+\n",
      "chr10\t106580486\t106680486\t29\t100000\t-\n",
      "chr11\t89405089\t89505089\t14\t100000\t-\n",
      "chr12\t41753250\t41853250\t12\t100000\t+\n",
      "chr12\t66199899\t66299899\t50\t100000\t-\n"
     ]
    }
   ],
   "source": [
    "### Create a random .bed file\n",
    "!bedtools random -l 100000 -n 50 -g /Users/pubudu/Documents/RefData/hg19/human.hg19.genome | sortBed -i stdin > sample.bed\n",
    "!head sample.bed"
   ]
  },
  {
   "cell_type": "code",
   "execution_count": 16,
   "metadata": {},
   "outputs": [
    {
     "data": {
      "text/html": [
       "<div>\n",
       "<style scoped>\n",
       "    .dataframe tbody tr th:only-of-type {\n",
       "        vertical-align: middle;\n",
       "    }\n",
       "\n",
       "    .dataframe tbody tr th {\n",
       "        vertical-align: top;\n",
       "    }\n",
       "\n",
       "    .dataframe thead th {\n",
       "        text-align: right;\n",
       "    }\n",
       "</style>\n",
       "<table border=\"1\" class=\"dataframe\">\n",
       "  <thead>\n",
       "    <tr style=\"text-align: right;\">\n",
       "      <th></th>\n",
       "      <th>chr</th>\n",
       "      <th>start</th>\n",
       "      <th>end</th>\n",
       "      <th>name</th>\n",
       "      <th>score</th>\n",
       "      <th>strand</th>\n",
       "    </tr>\n",
       "  </thead>\n",
       "  <tbody>\n",
       "    <tr>\n",
       "      <th>0</th>\n",
       "      <td>chr1</td>\n",
       "      <td>9053667</td>\n",
       "      <td>9153667</td>\n",
       "      <td>24</td>\n",
       "      <td>100000</td>\n",
       "      <td>-</td>\n",
       "    </tr>\n",
       "    <tr>\n",
       "      <th>1</th>\n",
       "      <td>chr1</td>\n",
       "      <td>41637089</td>\n",
       "      <td>41737089</td>\n",
       "      <td>13</td>\n",
       "      <td>100000</td>\n",
       "      <td>+</td>\n",
       "    </tr>\n",
       "    <tr>\n",
       "      <th>2</th>\n",
       "      <td>chr1</td>\n",
       "      <td>91439086</td>\n",
       "      <td>91539086</td>\n",
       "      <td>2</td>\n",
       "      <td>100000</td>\n",
       "      <td>-</td>\n",
       "    </tr>\n",
       "    <tr>\n",
       "      <th>3</th>\n",
       "      <td>chr1</td>\n",
       "      <td>117295918</td>\n",
       "      <td>117395918</td>\n",
       "      <td>37</td>\n",
       "      <td>100000</td>\n",
       "      <td>+</td>\n",
       "    </tr>\n",
       "    <tr>\n",
       "      <th>4</th>\n",
       "      <td>chr10</td>\n",
       "      <td>328063</td>\n",
       "      <td>428063</td>\n",
       "      <td>47</td>\n",
       "      <td>100000</td>\n",
       "      <td>-</td>\n",
       "    </tr>\n",
       "  </tbody>\n",
       "</table>\n",
       "</div>"
      ],
      "text/plain": [
       "     chr      start        end  name   score strand\n",
       "0   chr1    9053667    9153667    24  100000      -\n",
       "1   chr1   41637089   41737089    13  100000      +\n",
       "2   chr1   91439086   91539086     2  100000      -\n",
       "3   chr1  117295918  117395918    37  100000      +\n",
       "4  chr10     328063     428063    47  100000      -"
      ]
     },
     "execution_count": 16,
     "metadata": {},
     "output_type": "execute_result"
    }
   ],
   "source": [
    "### Read the sample file in to a pandas dataframe\n",
    "df = pd.read_table(\"sample.bed\", names=['chr', 'start', 'end', 'name', 'score', 'strand'])\n",
    "df.head()"
   ]
  },
  {
   "cell_type": "markdown",
   "metadata": {},
   "source": [
    "#### 2. A function to find overlapping genes in tabix index file"
   ]
  },
  {
   "cell_type": "code",
   "execution_count": 17,
   "metadata": {},
   "outputs": [],
   "source": [
    "def gencode_all_known_genes(a, tb):\n",
    "    genes = []\n",
    "\n",
    "    try:\n",
    "        for region in tb.fetch(a['chr'], int(a['start']), int(a['end'])):\n",
    "            if region:\n",
    "                r = region.split('\\t')\n",
    "                overlap_len = overlap(int(a['start']), int(a['end']), int(r[1]), int(r[2]))\n",
    "                ret_val = '{}({})'.format(r[3], np.round(overlap_len/float(int(a['end'])-int(a['start']))*100, 2)) ### Percentage of the input interval that overlap with the gene\n",
    "                genes.append(ret_val) \n",
    "\n",
    "        if len(genes)>0:\n",
    "            return \";\".join(genes)\n",
    "        else:\n",
    "            return \"NA(0)\"\n",
    "    except ValueError:\n",
    "        return \"NA(0)\"\n"
   ]
  },
  {
   "cell_type": "code",
   "execution_count": 18,
   "metadata": {},
   "outputs": [],
   "source": [
    "import pysam\n",
    "gencode_v19 = pysam.TabixFile('gencode.v19.annotation.gff3_all_known_genes.txt.sorted.formatted.bed.gz')\n",
    "\n",
    "df['genes'] = df.apply(lambda x: gencode_all_known_genes(x[['chr', 'start', 'end']], gencode_v19), axis=1)"
   ]
  },
  {
   "cell_type": "code",
   "execution_count": 19,
   "metadata": {},
   "outputs": [
    {
     "data": {
      "text/html": [
       "<div>\n",
       "<style scoped>\n",
       "    .dataframe tbody tr th:only-of-type {\n",
       "        vertical-align: middle;\n",
       "    }\n",
       "\n",
       "    .dataframe tbody tr th {\n",
       "        vertical-align: top;\n",
       "    }\n",
       "\n",
       "    .dataframe thead th {\n",
       "        text-align: right;\n",
       "    }\n",
       "</style>\n",
       "<table border=\"1\" class=\"dataframe\">\n",
       "  <thead>\n",
       "    <tr style=\"text-align: right;\">\n",
       "      <th></th>\n",
       "      <th>chr</th>\n",
       "      <th>start</th>\n",
       "      <th>end</th>\n",
       "      <th>name</th>\n",
       "      <th>score</th>\n",
       "      <th>strand</th>\n",
       "      <th>genes</th>\n",
       "    </tr>\n",
       "  </thead>\n",
       "  <tbody>\n",
       "    <tr>\n",
       "      <th>0</th>\n",
       "      <td>chr1</td>\n",
       "      <td>9053667</td>\n",
       "      <td>9153667</td>\n",
       "      <td>24</td>\n",
       "      <td>100000</td>\n",
       "      <td>-</td>\n",
       "      <td>SLC2A7(23.04);SLC2A5(53.37)</td>\n",
       "    </tr>\n",
       "    <tr>\n",
       "      <th>1</th>\n",
       "      <td>chr1</td>\n",
       "      <td>41637089</td>\n",
       "      <td>41737089</td>\n",
       "      <td>13</td>\n",
       "      <td>100000</td>\n",
       "      <td>+</td>\n",
       "      <td>SCMH1(70.74)</td>\n",
       "    </tr>\n",
       "    <tr>\n",
       "      <th>2</th>\n",
       "      <td>chr1</td>\n",
       "      <td>91439086</td>\n",
       "      <td>91539086</td>\n",
       "      <td>2</td>\n",
       "      <td>100000</td>\n",
       "      <td>-</td>\n",
       "      <td>ZNF644(48.74)</td>\n",
       "    </tr>\n",
       "    <tr>\n",
       "      <th>3</th>\n",
       "      <td>chr1</td>\n",
       "      <td>117295918</td>\n",
       "      <td>117395918</td>\n",
       "      <td>37</td>\n",
       "      <td>100000</td>\n",
       "      <td>+</td>\n",
       "      <td>CD2(14.84)</td>\n",
       "    </tr>\n",
       "    <tr>\n",
       "      <th>4</th>\n",
       "      <td>chr10</td>\n",
       "      <td>328063</td>\n",
       "      <td>428063</td>\n",
       "      <td>47</td>\n",
       "      <td>100000</td>\n",
       "      <td>-</td>\n",
       "      <td>DIP2C(100.0)</td>\n",
       "    </tr>\n",
       "  </tbody>\n",
       "</table>\n",
       "</div>"
      ],
      "text/plain": [
       "     chr      start        end  name   score strand  \\\n",
       "0   chr1    9053667    9153667    24  100000      -   \n",
       "1   chr1   41637089   41737089    13  100000      +   \n",
       "2   chr1   91439086   91539086     2  100000      -   \n",
       "3   chr1  117295918  117395918    37  100000      +   \n",
       "4  chr10     328063     428063    47  100000      -   \n",
       "\n",
       "                         genes  \n",
       "0  SLC2A7(23.04);SLC2A5(53.37)  \n",
       "1                 SCMH1(70.74)  \n",
       "2                ZNF644(48.74)  \n",
       "3                   CD2(14.84)  \n",
       "4                 DIP2C(100.0)  "
      ]
     },
     "execution_count": 19,
     "metadata": {},
     "output_type": "execute_result"
    }
   ],
   "source": [
    "df.head()"
   ]
  },
  {
   "cell_type": "code",
   "execution_count": 20,
   "metadata": {},
   "outputs": [
    {
     "name": "stdout",
     "output_type": "stream",
     "text": [
      "<class 'pandas.core.frame.DataFrame'>\n",
      "RangeIndex: 50 entries, 0 to 49\n",
      "Data columns (total 7 columns):\n",
      "chr       50 non-null object\n",
      "start     50 non-null int64\n",
      "end       50 non-null int64\n",
      "name      50 non-null int64\n",
      "score     50 non-null int64\n",
      "strand    50 non-null object\n",
      "genes     50 non-null object\n",
      "dtypes: int64(4), object(3)\n",
      "memory usage: 2.8+ KB\n"
     ]
    }
   ],
   "source": [
    "df.info()"
   ]
  },
  {
   "cell_type": "markdown",
   "metadata": {},
   "source": [
    "#### When an input interval overlaps with multiple genes, \"genes\" column will list all those genes (seperate by \";\")\n",
    "* If you need to have a single row for each gene, use the following code to transform the dataframe - df"
   ]
  },
  {
   "cell_type": "code",
   "execution_count": 21,
   "metadata": {},
   "outputs": [
    {
     "name": "stdout",
     "output_type": "stream",
     "text": [
      "<class 'pandas.core.frame.DataFrame'>\n",
      "RangeIndex: 31 entries, 0 to 30\n",
      "Data columns (total 7 columns):\n",
      "chr       31 non-null object\n",
      "start     31 non-null int64\n",
      "end       31 non-null int64\n",
      "name      31 non-null int64\n",
      "score     31 non-null int64\n",
      "strand    31 non-null object\n",
      "genes     31 non-null object\n",
      "dtypes: int64(4), object(3)\n",
      "memory usage: 1.8+ KB\n"
     ]
    }
   ],
   "source": [
    "## Remove all the intervals that do not overlap with genes\n",
    "df = df[df['genes'] != \"NA(0)\"].reset_index(drop=True)\n",
    "df.info()"
   ]
  },
  {
   "cell_type": "code",
   "execution_count": 22,
   "metadata": {},
   "outputs": [],
   "source": [
    "new_rows = []\n",
    "for i,r in df.iterrows():\n",
    "    g_list = r['genes'].split(\";\")\n",
    "    for g in g_list:\n",
    "        g = g.replace(\" \",\"\")\n",
    "        new_rows.append(np.append(r[['chr', 'start', 'end', 'name', 'score', 'strand', 'genes']].values, g))\n",
    "        \n",
    "df_perGene = pd.DataFrame()\n",
    "df_perGene = df_perGene.append(pd.DataFrame(new_rows, columns=['chr', 'start', 'end', 'name', 'score', 'strand', 'genes', 'gene_ID'])).reset_index().drop('index', axis=1)\n",
    "\n",
    "df_perGene['gene_name'] = df_perGene['gene_ID'].apply(lambda x: x.split(\"(\")[0])\n",
    "df_perGene['gene_coverage'] = df_perGene['gene_ID'].apply(lambda x: x.split(\"(\")[1].replace(\")\", \"\"))"
   ]
  },
  {
   "cell_type": "code",
   "execution_count": 23,
   "metadata": {},
   "outputs": [
    {
     "data": {
      "text/html": [
       "<div>\n",
       "<style scoped>\n",
       "    .dataframe tbody tr th:only-of-type {\n",
       "        vertical-align: middle;\n",
       "    }\n",
       "\n",
       "    .dataframe tbody tr th {\n",
       "        vertical-align: top;\n",
       "    }\n",
       "\n",
       "    .dataframe thead th {\n",
       "        text-align: right;\n",
       "    }\n",
       "</style>\n",
       "<table border=\"1\" class=\"dataframe\">\n",
       "  <thead>\n",
       "    <tr style=\"text-align: right;\">\n",
       "      <th></th>\n",
       "      <th>chr</th>\n",
       "      <th>start</th>\n",
       "      <th>end</th>\n",
       "      <th>name</th>\n",
       "      <th>score</th>\n",
       "      <th>strand</th>\n",
       "      <th>genes</th>\n",
       "      <th>gene_ID</th>\n",
       "      <th>gene_name</th>\n",
       "      <th>gene_coverage</th>\n",
       "    </tr>\n",
       "  </thead>\n",
       "  <tbody>\n",
       "    <tr>\n",
       "      <th>0</th>\n",
       "      <td>chr1</td>\n",
       "      <td>9053667</td>\n",
       "      <td>9153667</td>\n",
       "      <td>24</td>\n",
       "      <td>100000</td>\n",
       "      <td>-</td>\n",
       "      <td>SLC2A7(23.04);SLC2A5(53.37)</td>\n",
       "      <td>SLC2A7(23.04)</td>\n",
       "      <td>SLC2A7</td>\n",
       "      <td>23.04</td>\n",
       "    </tr>\n",
       "    <tr>\n",
       "      <th>1</th>\n",
       "      <td>chr1</td>\n",
       "      <td>9053667</td>\n",
       "      <td>9153667</td>\n",
       "      <td>24</td>\n",
       "      <td>100000</td>\n",
       "      <td>-</td>\n",
       "      <td>SLC2A7(23.04);SLC2A5(53.37)</td>\n",
       "      <td>SLC2A5(53.37)</td>\n",
       "      <td>SLC2A5</td>\n",
       "      <td>53.37</td>\n",
       "    </tr>\n",
       "    <tr>\n",
       "      <th>2</th>\n",
       "      <td>chr1</td>\n",
       "      <td>41637089</td>\n",
       "      <td>41737089</td>\n",
       "      <td>13</td>\n",
       "      <td>100000</td>\n",
       "      <td>+</td>\n",
       "      <td>SCMH1(70.74)</td>\n",
       "      <td>SCMH1(70.74)</td>\n",
       "      <td>SCMH1</td>\n",
       "      <td>70.74</td>\n",
       "    </tr>\n",
       "    <tr>\n",
       "      <th>3</th>\n",
       "      <td>chr1</td>\n",
       "      <td>91439086</td>\n",
       "      <td>91539086</td>\n",
       "      <td>2</td>\n",
       "      <td>100000</td>\n",
       "      <td>-</td>\n",
       "      <td>ZNF644(48.74)</td>\n",
       "      <td>ZNF644(48.74)</td>\n",
       "      <td>ZNF644</td>\n",
       "      <td>48.74</td>\n",
       "    </tr>\n",
       "    <tr>\n",
       "      <th>4</th>\n",
       "      <td>chr1</td>\n",
       "      <td>117295918</td>\n",
       "      <td>117395918</td>\n",
       "      <td>37</td>\n",
       "      <td>100000</td>\n",
       "      <td>+</td>\n",
       "      <td>CD2(14.84)</td>\n",
       "      <td>CD2(14.84)</td>\n",
       "      <td>CD2</td>\n",
       "      <td>14.84</td>\n",
       "    </tr>\n",
       "  </tbody>\n",
       "</table>\n",
       "</div>"
      ],
      "text/plain": [
       "    chr      start        end  name   score strand  \\\n",
       "0  chr1    9053667    9153667    24  100000      -   \n",
       "1  chr1    9053667    9153667    24  100000      -   \n",
       "2  chr1   41637089   41737089    13  100000      +   \n",
       "3  chr1   91439086   91539086     2  100000      -   \n",
       "4  chr1  117295918  117395918    37  100000      +   \n",
       "\n",
       "                         genes        gene_ID gene_name gene_coverage  \n",
       "0  SLC2A7(23.04);SLC2A5(53.37)  SLC2A7(23.04)    SLC2A7         23.04  \n",
       "1  SLC2A7(23.04);SLC2A5(53.37)  SLC2A5(53.37)    SLC2A5         53.37  \n",
       "2                 SCMH1(70.74)   SCMH1(70.74)     SCMH1         70.74  \n",
       "3                ZNF644(48.74)  ZNF644(48.74)    ZNF644         48.74  \n",
       "4                   CD2(14.84)     CD2(14.84)       CD2         14.84  "
      ]
     },
     "execution_count": 23,
     "metadata": {},
     "output_type": "execute_result"
    }
   ],
   "source": [
    "df_perGene.head()"
   ]
  },
  {
   "cell_type": "code",
   "execution_count": 24,
   "metadata": {},
   "outputs": [
    {
     "data": {
      "text/html": [
       "<div>\n",
       "<style scoped>\n",
       "    .dataframe tbody tr th:only-of-type {\n",
       "        vertical-align: middle;\n",
       "    }\n",
       "\n",
       "    .dataframe tbody tr th {\n",
       "        vertical-align: top;\n",
       "    }\n",
       "\n",
       "    .dataframe thead th {\n",
       "        text-align: right;\n",
       "    }\n",
       "</style>\n",
       "<table border=\"1\" class=\"dataframe\">\n",
       "  <thead>\n",
       "    <tr style=\"text-align: right;\">\n",
       "      <th></th>\n",
       "      <th>chr</th>\n",
       "      <th>start</th>\n",
       "      <th>end</th>\n",
       "      <th>name</th>\n",
       "      <th>score</th>\n",
       "      <th>strand</th>\n",
       "      <th>gene_name</th>\n",
       "      <th>gene_coverage</th>\n",
       "    </tr>\n",
       "  </thead>\n",
       "  <tbody>\n",
       "    <tr>\n",
       "      <th>0</th>\n",
       "      <td>chr1</td>\n",
       "      <td>9053667</td>\n",
       "      <td>9153667</td>\n",
       "      <td>24</td>\n",
       "      <td>100000</td>\n",
       "      <td>-</td>\n",
       "      <td>SLC2A7</td>\n",
       "      <td>23.04</td>\n",
       "    </tr>\n",
       "    <tr>\n",
       "      <th>1</th>\n",
       "      <td>chr1</td>\n",
       "      <td>9053667</td>\n",
       "      <td>9153667</td>\n",
       "      <td>24</td>\n",
       "      <td>100000</td>\n",
       "      <td>-</td>\n",
       "      <td>SLC2A5</td>\n",
       "      <td>53.37</td>\n",
       "    </tr>\n",
       "    <tr>\n",
       "      <th>2</th>\n",
       "      <td>chr1</td>\n",
       "      <td>41637089</td>\n",
       "      <td>41737089</td>\n",
       "      <td>13</td>\n",
       "      <td>100000</td>\n",
       "      <td>+</td>\n",
       "      <td>SCMH1</td>\n",
       "      <td>70.74</td>\n",
       "    </tr>\n",
       "    <tr>\n",
       "      <th>3</th>\n",
       "      <td>chr1</td>\n",
       "      <td>91439086</td>\n",
       "      <td>91539086</td>\n",
       "      <td>2</td>\n",
       "      <td>100000</td>\n",
       "      <td>-</td>\n",
       "      <td>ZNF644</td>\n",
       "      <td>48.74</td>\n",
       "    </tr>\n",
       "    <tr>\n",
       "      <th>4</th>\n",
       "      <td>chr1</td>\n",
       "      <td>117295918</td>\n",
       "      <td>117395918</td>\n",
       "      <td>37</td>\n",
       "      <td>100000</td>\n",
       "      <td>+</td>\n",
       "      <td>CD2</td>\n",
       "      <td>14.84</td>\n",
       "    </tr>\n",
       "  </tbody>\n",
       "</table>\n",
       "</div>"
      ],
      "text/plain": [
       "    chr      start        end  name   score strand gene_name gene_coverage\n",
       "0  chr1    9053667    9153667    24  100000      -    SLC2A7         23.04\n",
       "1  chr1    9053667    9153667    24  100000      -    SLC2A5         53.37\n",
       "2  chr1   41637089   41737089    13  100000      +     SCMH1         70.74\n",
       "3  chr1   91439086   91539086     2  100000      -    ZNF644         48.74\n",
       "4  chr1  117295918  117395918    37  100000      +       CD2         14.84"
      ]
     },
     "execution_count": 24,
     "metadata": {},
     "output_type": "execute_result"
    }
   ],
   "source": [
    "## drop the genes column\n",
    "df_perGene = df_perGene.drop([\"genes\", \"gene_ID\"], axis=1)\n",
    "df_perGene.head()"
   ]
  },
  {
   "cell_type": "code",
   "execution_count": 25,
   "metadata": {},
   "outputs": [
    {
     "name": "stdout",
     "output_type": "stream",
     "text": [
      "<class 'pandas.core.frame.DataFrame'>\n",
      "RangeIndex: 39 entries, 0 to 38\n",
      "Data columns (total 8 columns):\n",
      "chr              39 non-null object\n",
      "start            39 non-null int64\n",
      "end              39 non-null int64\n",
      "name             39 non-null int64\n",
      "score            39 non-null int64\n",
      "strand           39 non-null object\n",
      "gene_name        39 non-null object\n",
      "gene_coverage    39 non-null object\n",
      "dtypes: int64(4), object(4)\n",
      "memory usage: 2.5+ KB\n"
     ]
    }
   ],
   "source": [
    "df_perGene.info()"
   ]
  },
  {
   "cell_type": "code",
   "execution_count": null,
   "metadata": {},
   "outputs": [],
   "source": []
  }
 ],
 "metadata": {
  "kernelspec": {
   "display_name": "Python (py36)",
   "language": "python",
   "name": "py36"
  },
  "language_info": {
   "codemirror_mode": {
    "name": "ipython",
    "version": 3
   },
   "file_extension": ".py",
   "mimetype": "text/x-python",
   "name": "python",
   "nbconvert_exporter": "python",
   "pygments_lexer": "ipython3",
   "version": "3.6.3"
  }
 },
 "nbformat": 4,
 "nbformat_minor": 2
}
